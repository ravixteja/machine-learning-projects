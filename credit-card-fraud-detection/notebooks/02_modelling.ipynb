{
 "cells": [
  {
   "cell_type": "markdown",
   "id": "49c98a2f",
   "metadata": {},
   "source": [
    "# Credit Card Fraud Detection - Model Development\n",
    "\n",
    "## Objectives\n",
    "- Build robust classical ML models for fraud detection\n",
    "- Handle severe class imbalance\n",
    "- Optimize for business metrics\n",
    "- Compare multiple algorithms - Logistic Regression, Decision Tree, Random Forest, SVM\n",
    "- Deploy best model with proper evaluation\n",
    "\n",
    "## Challegnes identified from EDA\n",
    "- Severe class imbalance\n",
    "- PCA transformed features limit interpretability of data"
   ]
  },
  {
   "cell_type": "code",
   "execution_count": 61,
   "id": "07a09c5c",
   "metadata": {},
   "outputs": [
    {
     "name": "stdout",
     "output_type": "stream",
     "text": [
      "Required libraries imported successfully!\n"
     ]
    }
   ],
   "source": [
    "# import libraries and insights from EDA\n",
    "\n",
    "import pandas as pd\n",
    "import numpy as np\n",
    "import matplotlib.pyplot as plt\n",
    "import seaborn as sns\n",
    "\n",
    "import json\n",
    "import warnings\n",
    "warnings.filterwarnings(\"ignore\")\n",
    "\n",
    "# ML libraries\n",
    "from sklearn.model_selection import train_test_split\n",
    "from sklearn.preprocessing import StandardScaler, RobustScaler\n",
    "from sklearn.linear_model import LogisticRegression\n",
    "from sklearn.tree import DecisionTreeClassifier\n",
    "from sklearn.ensemble import RandomForestClassifier\n",
    "from sklearn.svm import SVC\n",
    "\n",
    "# Metric libraries\n",
    "\n",
    "# Libraries to handle imbalanced datasets\n",
    "from imblearn.over_sampling import SMOTE\n",
    "from imblearn.over_sampling import BorderlineSMOTE\n",
    "\n",
    "print(\"Required libraries imported successfully!\")"
   ]
  },
  {
   "cell_type": "code",
   "execution_count": 22,
   "id": "2603d7ed",
   "metadata": {},
   "outputs": [
    {
     "name": "stdout",
     "output_type": "stream",
     "text": [
      "Dataset and insights loaded successfully!\n"
     ]
    }
   ],
   "source": [
    "# Load dataset and insights from EDA\n",
    "df = pd.read_csv('../data/creditcard.csv')\n",
    "insights = json.load(open('../data/eda_insights.json'))\n",
    "\n",
    "print(\"Dataset and insights loaded successfully!\")"
   ]
  },
  {
   "cell_type": "code",
   "execution_count": 23,
   "id": "00a1c664",
   "metadata": {},
   "outputs": [
    {
     "name": "stdout",
     "output_type": "stream",
     "text": [
      "=== KEY INSIGHTS FROM EDA ===\n",
      "memory_usage_mb: 67.36\n",
      "dataset_shape: [284807, 32]\n",
      "imbalance_ratio: 577.88\n",
      "fraud_rate: 0.17\n",
      "missing_values: {}\n",
      "duplicates_percentage: 0.379555277784605\n",
      "top_15_features: ['V17', 'V14', 'V12', 'V10', 'V16', 'V3', 'V7', 'V11', 'V4', 'V18', 'V1', 'V9', 'V5', 'V2', 'V6']\n",
      "significant_features: ['V14', 'V4', 'V12', 'V11', 'V10', 'V3', 'V2', 'V16', 'V9', 'V7', 'V17', 'V1', 'V6', 'V21', 'V18', 'V5', 'V27', 'V8', 'V19', 'V20', 'V28', 'Time', 'V24', 'Amount']\n",
      "amount_stats: {'legitimate_mean': 88.29102242231328, 'fraudulent_mean': 122.21132113821139, 'max_transaction_amount': 25691.16, 'min_transaction_amount': 0.0, 'amount_std': 250.1201092401885}\n"
     ]
    }
   ],
   "source": [
    "# Extract key insights\n",
    "with open('../data/eda_insights.json', 'r') as f:\n",
    "    insights = json.load(f)\n",
    "\n",
    "print(\"=== KEY INSIGHTS FROM EDA ===\")\n",
    "# Display insights\n",
    "for key, value in insights.items():\n",
    "    print(f\"{key}: {value}\")"
   ]
  },
  {
   "cell_type": "code",
   "execution_count": 24,
   "id": "b721151e",
   "metadata": {},
   "outputs": [
    {
     "name": "stdout",
     "output_type": "stream",
     "text": [
      "=== FEATURE PREPARATION ===\n",
      "\n",
      "Features and target variable separated successfully!\n",
      "\n",
      "Selected top 15 features for modelling.\n",
      "\n",
      "Selected features: V17, V14, V12, V10, V16, V3, V7, V11, V4, V18, V1, V9, V5, V2, V6\n"
     ]
    }
   ],
   "source": [
    "# Feature preperation\n",
    "print(\"=== FEATURE PREPARATION ===\")\n",
    "\n",
    "# Split dataset into features and target\n",
    "X = df.drop(columns=['Class'])\n",
    "y = df['Class']\n",
    "print(\"\\nFeatures and target variable separated successfully!\")\n",
    "\n",
    "# Consider only top 15 features based on EDA insights\n",
    "top_features = insights['top_15_features']\n",
    "X_selected = X[top_features]\n",
    "print(f\"\\nSelected top {len(top_features)} features for modelling.\")\n",
    "print(f\"\\nSelected features: {', '.join(feature for feature in top_features)}\")"
   ]
  },
  {
   "cell_type": "code",
   "execution_count": 30,
   "id": "f41f03b9",
   "metadata": {},
   "outputs": [
    {
     "name": "stdout",
     "output_type": "stream",
     "text": [
      "\n",
      "=== TIME BASED TRAIN-TEST SPLIT ===\n",
      "\n",
      "Dataset sorted by 'Time' for temporal split.\n",
      "\n",
      "Train-test split completed successfully!\n",
      "\n",
      "Train set shape: (227845, 15), Test set shape: (56962, 15)\n",
      "Train fraud rate: 0.18%, Test fraud rate: 0.13%\n"
     ]
    }
   ],
   "source": [
    "# Time based train-test split\n",
    "print(\"\\n=== TIME BASED TRAIN-TEST SPLIT ===\")\n",
    "\n",
    "# sort by 'Time' to ensure temporal order\n",
    "df_sorted = df.sort_values(by='Time').reset_index(drop=True)\n",
    "X_sorted = df_sorted[top_features]\n",
    "y_sorted = df_sorted['Class']\n",
    "print(\"\\nDataset sorted by 'Time' for temporal split.\")\n",
    "\n",
    "# Split into train and test sets (First 80% train, Last 20% test)\n",
    "X_train, X_test, y_train, y_test = train_test_split(X_sorted, y_sorted, test_size=0.2, shuffle=False)\n",
    "print(\"\\nTrain-test split completed successfully!\")\n",
    "\n",
    "# print shapes of train and test sets\n",
    "print(f\"\\nTrain set shape: {X_train.shape}, Test set shape: {X_test.shape}\")\n",
    "print(f\"Train fraud rate: {y_train.mean() * 100:.2f}%, Test fraud rate: {y_test.mean() * 100:.2f}%\")"
   ]
  },
  {
   "cell_type": "code",
   "execution_count": 33,
   "id": "23354281",
   "metadata": {},
   "outputs": [
    {
     "name": "stdout",
     "output_type": "stream",
     "text": [
      "\n",
      "=== FEATURE SCALING ===\n",
      "\n",
      "Feature scaling completed using RobustScaler!\n"
     ]
    }
   ],
   "source": [
    "# Feature scaling\n",
    "print(\"\\n=== FEATURE SCALING ===\")\n",
    "scaler = RobustScaler()\n",
    "X_train_scaled = scaler.fit_transform(X_train)\n",
    "X_test_scaled = scaler.transform(X_test)\n",
    "print(\"\\nFeature scaling completed using RobustScaler!\")"
   ]
  },
  {
   "cell_type": "code",
   "execution_count": 62,
   "id": "3bab60a6",
   "metadata": {},
   "outputs": [
    {
     "name": "stdout",
     "output_type": "stream",
     "text": [
      "\n",
      "=== HANDLING CLASS IMBALANCE ===\n",
      "\n",
      "Strategy 1: Original class distribution\n",
      "Legitimate: 227428 (99.82%)\n",
      "Fraudulent: 417 (0.18%)\n",
      "\n",
      "Strategy 2: SMOTE applied\n",
      "Legitimate: 227428 (50.00%)\n",
      "Fraudulent: 227428 (50.00%)\n",
      "\n",
      "Strategy 3: Borderline SMOTE applied\n",
      "Legitimate: 227428 (50.00%)\n",
      "Fraudulent: 227428 (50.00%)\n"
     ]
    }
   ],
   "source": [
    "# Handling class imbalance\n",
    "print(\"\\n=== HANDLING CLASS IMBALANCE ===\")\n",
    "\n",
    "# Stratergy 1: Original class distribution\n",
    "print(\"\\nStrategy 1: Original class distribution\")\n",
    "print(f\"Legitimate: {len(y_train[y_train==0])} ({len(y_train[y_train==0]) / len(y_train) * 100:.2f}%)\")\n",
    "print(f\"Fraudulent: {len(y_train[y_train==1])} ({len(y_train[y_train==1]) / len(y_train) * 100:.2f}%)\")\n",
    "# display(len(y_train[y_train==0]))\n",
    "\n",
    "# Stratergy 2: SMOTE (Synthetic Minority Over-sampling Technique)\n",
    "smote = SMOTE(random_state=42, k_neighbors=5)\n",
    "X_train_smote, y_train_smote = smote.fit_resample(X_train_scaled, y_train)\n",
    "print(\"\\nStrategy 2: SMOTE applied\")\n",
    "print(f\"Legitimate: {len(y_train_smote[y_train_smote==0])} ({len(y_train_smote[y_train_smote==0]) / len(y_train_smote) * 100:.2f}%)\")\n",
    "print(f\"Fraudulent: {len(y_train_smote[y_train_smote==1])} ({len(y_train_smote[y_train_smote==1]) / len(y_train_smote) * 100:.2f}%)\")\n",
    "\n",
    "# Stratergy 3: Borderline SMOTE\n",
    "borderline_smote = BorderlineSMOTE(random_state=42, k_neighbors=5)\n",
    "print(\"\\nStrategy 3: Borderline SMOTE applied\")\n",
    "X_train_borderline_smote, y_train_borderline_smote = borderline_smote.fit_resample(X_train_scaled, y_train)\n",
    "print(f\"Legitimate: {len(y_train_borderline_smote[y_train_borderline_smote==0])} ({len(y_train_borderline_smote[y_train_borderline_smote==0]) / len(y_train_borderline_smote) * 100:.2f}%)\")\n",
    "print(f\"Fraudulent: {len(y_train_borderline_smote[y_train_borderline_smote==1])} ({len(y_train_borderline_smote[y_train_borderline_smote==1]) / len(y_train_borderline_smote) * 100:.2f}%)\")"
   ]
  },
  {
   "cell_type": "code",
   "execution_count": null,
   "id": "35e0f9e7",
   "metadata": {},
   "outputs": [],
   "source": []
  }
 ],
 "metadata": {
  "kernelspec": {
   "display_name": "myenv",
   "language": "python",
   "name": "python3"
  },
  "language_info": {
   "codemirror_mode": {
    "name": "ipython",
    "version": 3
   },
   "file_extension": ".py",
   "mimetype": "text/x-python",
   "name": "python",
   "nbconvert_exporter": "python",
   "pygments_lexer": "ipython3",
   "version": "3.10.12"
  }
 },
 "nbformat": 4,
 "nbformat_minor": 5
}
