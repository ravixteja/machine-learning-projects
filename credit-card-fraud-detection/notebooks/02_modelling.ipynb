{
 "cells": [
  {
   "cell_type": "markdown",
   "id": "49c98a2f",
   "metadata": {},
   "source": [
    "# Credit Card Fraud Detection - Model Development\n",
    "\n",
    "## Objectives\n",
    "- Build robust classical ML models for fraud detection\n",
    "- Handle severe class imbalance\n",
    "- Optimize for business metrics\n",
    "- Compare multiple algorithms - Logistic Regression, Decision Tree, Random Forest, SVM\n",
    "- Deploy best model with proper evaluation\n",
    "\n",
    "## Challegnes identified from EDA\n",
    "- Severe class imbalance\n",
    "- PCA transformed features limit interpretability of data"
   ]
  },
  {
   "cell_type": "code",
   "execution_count": 21,
   "id": "07a09c5c",
   "metadata": {},
   "outputs": [
    {
     "name": "stdout",
     "output_type": "stream",
     "text": [
      "Required libraries imported successfully!\n"
     ]
    }
   ],
   "source": [
    "# import libraries and insights from EDA\n",
    "\n",
    "import pandas as pd\n",
    "import numpy as np\n",
    "import matplotlib.pyplot as plt\n",
    "import seaborn as sns\n",
    "\n",
    "import json\n",
    "import warnings\n",
    "warnings.filterwarnings(\"ignore\")\n",
    "\n",
    "# ML libraries\n",
    "from sklearn.model_selection import train_test_split, StratifiedKFold, cross_val_score\n",
    "from sklearn.preprocessing import StandardScaler, RobustScaler\n",
    "from sklearn.linear_model import LogisticRegression\n",
    "from sklearn.tree import DecisionTreeClassifier\n",
    "from sklearn.ensemble import RandomForestClassifier\n",
    "from sklearn.svm import SVC\n",
    "\n",
    "# Metric libraries\n",
    "\n",
    "# Libraries to handle imbalanced datasets\n",
    "from imblearn.over_sampling import SMOTE\n",
    "from imblearn.over_sampling import BorderlineSMOTE\n",
    "from imblearn.combine import SMOTETomek\n",
    "\n",
    "# Libraries for model development\n",
    "from sklearn.utils.class_weight import compute_class_weight\n",
    "\n",
    "print(\"Required libraries imported successfully!\")"
   ]
  },
  {
   "cell_type": "code",
   "execution_count": 2,
   "id": "2603d7ed",
   "metadata": {},
   "outputs": [
    {
     "name": "stdout",
     "output_type": "stream",
     "text": [
      "Dataset and insights loaded successfully!\n"
     ]
    }
   ],
   "source": [
    "# Load dataset and insights from EDA\n",
    "df = pd.read_csv('../data/creditcard.csv')\n",
    "insights = json.load(open('../data/eda_insights.json'))\n",
    "\n",
    "print(\"Dataset and insights loaded successfully!\")"
   ]
  },
  {
   "cell_type": "code",
   "execution_count": 3,
   "id": "00a1c664",
   "metadata": {},
   "outputs": [
    {
     "name": "stdout",
     "output_type": "stream",
     "text": [
      "=== KEY INSIGHTS FROM EDA ===\n",
      "memory_usage_mb: 67.36\n",
      "dataset_shape: [284807, 32]\n",
      "imbalance_ratio: 577.88\n",
      "fraud_rate: 0.17\n",
      "missing_values: {}\n",
      "duplicates_percentage: 0.379555277784605\n",
      "top_15_features: ['V17', 'V14', 'V12', 'V10', 'V16', 'V3', 'V7', 'V11', 'V4', 'V18', 'V1', 'V9', 'V5', 'V2', 'V6']\n",
      "significant_features: ['V14', 'V4', 'V12', 'V11', 'V10', 'V3', 'V2', 'V16', 'V9', 'V7', 'V17', 'V1', 'V6', 'V21', 'V18', 'V5', 'V27', 'V8', 'V19', 'V20', 'V28', 'Time', 'V24', 'Amount']\n",
      "amount_stats: {'legitimate_mean': 88.29102242231328, 'fraudulent_mean': 122.21132113821139, 'max_transaction_amount': 25691.16, 'min_transaction_amount': 0.0, 'amount_std': 250.1201092401885}\n"
     ]
    }
   ],
   "source": [
    "# Extract key insights\n",
    "with open('../data/eda_insights.json', 'r') as f:\n",
    "    insights = json.load(f)\n",
    "\n",
    "print(\"=== KEY INSIGHTS FROM EDA ===\")\n",
    "# Display insights\n",
    "for key, value in insights.items():\n",
    "    print(f\"{key}: {value}\")"
   ]
  },
  {
   "cell_type": "code",
   "execution_count": 4,
   "id": "b721151e",
   "metadata": {},
   "outputs": [
    {
     "name": "stdout",
     "output_type": "stream",
     "text": [
      "=== FEATURE PREPARATION ===\n",
      "\n",
      "Features and target variable separated successfully!\n",
      "\n",
      "Selected top 15 features for modelling.\n",
      "\n",
      "Selected features: V17, V14, V12, V10, V16, V3, V7, V11, V4, V18, V1, V9, V5, V2, V6\n"
     ]
    }
   ],
   "source": [
    "# Feature preperation\n",
    "print(\"=== FEATURE PREPARATION ===\")\n",
    "\n",
    "# Split dataset into features and target\n",
    "X = df.drop(columns=['Class'])\n",
    "y = df['Class']\n",
    "print(\"\\nFeatures and target variable separated successfully!\")\n",
    "\n",
    "# Consider only top 15 features based on EDA insights\n",
    "top_features = insights['top_15_features']\n",
    "X_selected = X[top_features]\n",
    "print(f\"\\nSelected top {len(top_features)} features for modelling.\")\n",
    "print(f\"\\nSelected features: {', '.join(feature for feature in top_features)}\")"
   ]
  },
  {
   "cell_type": "code",
   "execution_count": 5,
   "id": "f41f03b9",
   "metadata": {},
   "outputs": [
    {
     "name": "stdout",
     "output_type": "stream",
     "text": [
      "\n",
      "=== TIME BASED TRAIN-TEST SPLIT ===\n",
      "\n",
      "Dataset sorted by 'Time' for temporal split.\n",
      "\n",
      "Train-test split completed successfully!\n",
      "\n",
      "Train set shape: (227845, 15), Test set shape: (56962, 15)\n",
      "Train fraud rate: 0.18%, Test fraud rate: 0.13%\n"
     ]
    }
   ],
   "source": [
    "# Time based train-test split\n",
    "print(\"\\n=== TIME BASED TRAIN-TEST SPLIT ===\")\n",
    "\n",
    "# sort by 'Time' to ensure temporal order\n",
    "df_sorted = df.sort_values(by='Time').reset_index(drop=True)\n",
    "X_sorted = df_sorted[top_features]\n",
    "y_sorted = df_sorted['Class']\n",
    "print(\"\\nDataset sorted by 'Time' for temporal split.\")\n",
    "\n",
    "# Split into train and test sets (First 80% train, Last 20% test)\n",
    "X_train, X_test, y_train, y_test = train_test_split(X_sorted, y_sorted, test_size=0.2, shuffle=False)\n",
    "print(\"\\nTrain-test split completed successfully!\")\n",
    "\n",
    "# print shapes of train and test sets\n",
    "print(f\"\\nTrain set shape: {X_train.shape}, Test set shape: {X_test.shape}\")\n",
    "print(f\"Train fraud rate: {y_train.mean() * 100:.2f}%, Test fraud rate: {y_test.mean() * 100:.2f}%\")"
   ]
  },
  {
   "cell_type": "code",
   "execution_count": 6,
   "id": "23354281",
   "metadata": {},
   "outputs": [
    {
     "name": "stdout",
     "output_type": "stream",
     "text": [
      "\n",
      "=== FEATURE SCALING ===\n",
      "\n",
      "Feature scaling completed using RobustScaler!\n"
     ]
    }
   ],
   "source": [
    "# Feature scaling\n",
    "print(\"\\n=== FEATURE SCALING ===\")\n",
    "scaler = RobustScaler()\n",
    "X_train_scaled = scaler.fit_transform(X_train)\n",
    "X_test_scaled = scaler.transform(X_test)\n",
    "print(\"\\nFeature scaling completed using RobustScaler!\")"
   ]
  },
  {
   "cell_type": "code",
   "execution_count": 8,
   "id": "3bab60a6",
   "metadata": {},
   "outputs": [
    {
     "name": "stdout",
     "output_type": "stream",
     "text": [
      "\n",
      "=== HANDLING CLASS IMBALANCE ===\n",
      "\n",
      "Strategy 1: Original class distribution\n",
      "Legitimate: 227428 (99.82%)\n",
      "Fraudulent: 417 (0.18%)\n",
      "\n",
      "Strategy 2: SMOTE applied\n",
      "Legitimate: 227428 (50.00%)\n",
      "Fraudulent: 227428 (50.00%)\n",
      "\n",
      "Strategy 3: Borderline SMOTE applied\n",
      "Legitimate: 227428 (50.00%)\n",
      "Fraudulent: 227428 (50.00%)\n",
      "\n",
      "Strategy 3: Undersampling + SMOTE applied\n",
      "Legitimate: 227428 (50.00%)\n",
      "Fraudulent: 227428 (50.00%)\n"
     ]
    }
   ],
   "source": [
    "# Handling class imbalance\n",
    "print(\"\\n=== HANDLING CLASS IMBALANCE ===\")\n",
    "\n",
    "# Stratergy 1: Original class distribution\n",
    "print(\"\\nStrategy 1: Original class distribution\")\n",
    "print(f\"Legitimate: {len(y_train[y_train==0])} ({len(y_train[y_train==0]) / len(y_train) * 100:.2f}%)\")\n",
    "print(f\"Fraudulent: {len(y_train[y_train==1])} ({len(y_train[y_train==1]) / len(y_train) * 100:.2f}%)\")\n",
    "# display(len(y_train[y_train==0]))\n",
    "\n",
    "# Stratergy 2: SMOTE (Synthetic Minority Over-sampling Technique)\n",
    "smote = SMOTE(random_state=42, k_neighbors=5)\n",
    "X_train_smote, y_train_smote = smote.fit_resample(X_train_scaled, y_train)\n",
    "print(\"\\nStrategy 2: SMOTE applied\")\n",
    "print(f\"Legitimate: {len(y_train_smote[y_train_smote==0])} ({len(y_train_smote[y_train_smote==0]) / len(y_train_smote) * 100:.2f}%)\")\n",
    "print(f\"Fraudulent: {len(y_train_smote[y_train_smote==1])} ({len(y_train_smote[y_train_smote==1]) / len(y_train_smote) * 100:.2f}%)\")\n",
    "\n",
    "# Stratergy 3: Borderline SMOTE\n",
    "borderline_smote = BorderlineSMOTE(random_state=42, k_neighbors=5)\n",
    "\n",
    "X_train_borderline_smote, y_train_borderline_smote = borderline_smote.fit_resample(X_train_scaled, y_train)\n",
    "print(\"\\nStrategy 3: Borderline SMOTE applied\")\n",
    "print(f\"Legitimate: {len(y_train_borderline_smote[y_train_borderline_smote==0])} ({len(y_train_borderline_smote[y_train_borderline_smote==0]) / len(y_train_borderline_smote) * 100:.2f}%)\")\n",
    "print(f\"Fraudulent: {len(y_train_borderline_smote[y_train_borderline_smote==1])} ({len(y_train_borderline_smote[y_train_borderline_smote==1]) / len(y_train_borderline_smote) * 100:.2f}%)\")\n",
    "\n",
    "# Stratergy 4: Undersampling + SMOTE combination\n",
    "smote_tomek = SMOTETomek(random_state=42)\n",
    "X_train_smote_tomek, y_train_smote_tomek = smote_tomek.fit_resample(X_train_scaled, y_train)\n",
    "print(\"\\nStrategy 3: Undersampling + SMOTE applied\")\n",
    "print(f\"Legitimate: {len(y_train_smote_tomek[y_train_smote_tomek==0])} ({len(y_train_smote_tomek[y_train_smote_tomek==0]) / len(y_train_smote_tomek) * 100:.2f}%)\")\n",
    "print(f\"Fraudulent: {len(y_train_smote_tomek[y_train_smote_tomek==1])} ({len(y_train_smote_tomek[y_train_smote_tomek==1]) / len(y_train_smote_tomek) * 100:.2f}%)\")"
   ]
  },
  {
   "cell_type": "code",
   "execution_count": 18,
   "id": "35e0f9e7",
   "metadata": {},
   "outputs": [
    {
     "name": "stdout",
     "output_type": "stream",
     "text": [
      "=== MODEL DEVELOPMENT ===\n",
      "\n",
      "Computed Class weights!\n",
      "Class weights: {0: np.float64(0.5), 1: np.float64(273.2)}\n",
      "\n",
      "Initialized 4 classical ML models.\n"
     ]
    }
   ],
   "source": [
    "# Model Development using samples from different stratergies\n",
    "print(\"=== MODEL DEVELOPMENT ===\")\n",
    "\n",
    "# Compute class weights for cost-sensitive learning\n",
    "class_weights = compute_class_weight(class_weight = 'balanced',\n",
    "                                     classes = np.unique(y_train),\n",
    "                                     y = y_train)\n",
    "# display(class_weights)\n",
    "class_weights_dict = {0: class_weights[0].round(2), 1: class_weights[1].round(2)}\n",
    "print(f\"\\nComputed Class weights!\")\n",
    "print(f\"Class weights: {class_weights_dict}\")\n",
    "\n",
    "# define models\n",
    "models = {\n",
    "    'Logistic Regression' : LogisticRegression(\n",
    "        random_state = 42,\n",
    "        class_weight = 'balanced',\n",
    "        max_iter = 1000\n",
    "    ),\n",
    "    'Decision Tree' : DecisionTreeClassifier(\n",
    "        random_state = 42,\n",
    "        class_weight = 'balanced',\n",
    "        max_depth = 10,\n",
    "        min_samples_split = 100,\n",
    "        min_samples_leaf = 50\n",
    "    ),\n",
    "    'Random Forest' : RandomForestClassifier(\n",
    "        n_estimators = 100,\n",
    "        random_state = 42,\n",
    "        class_weight = 'balanced',\n",
    "        max_depth = 10,\n",
    "        min_samples_split = 100,\n",
    "        min_samples_leaf = 50,\n",
    "        n_jobs = -1\n",
    "    ),\n",
    "    'SVM' : SVC(\n",
    "        random_state = 42,\n",
    "        class_weight = 'balanced',\n",
    "        kernel = 'rbf',\n",
    "        probability = True\n",
    "    )\n",
    "}\n",
    "\n",
    "print(f\"\\nInitialized {len(models)} classical ML models.\")"
   ]
  },
  {
   "cell_type": "code",
   "execution_count": 23,
   "id": "b6b019e3",
   "metadata": {},
   "outputs": [
    {
     "name": "stdout",
     "output_type": "stream",
     "text": [
      "=== CROSS VALIDATION SETUP ===\n",
      "\n",
      "Cross validation strategy configured!\n",
      "Used Stratified 5 fold cross validation with metrics ['precision', 'recall', 'f1', 'roc_auc', 'average_precision']\n"
     ]
    }
   ],
   "source": [
    "# Initiate Cross Validation to ensure stable and reliable results\n",
    "print(\"=== CROSS VALIDATION SETUP ===\")\n",
    "\n",
    "# Initiate Stratified K Fold Cross Validation (maintains class distribution)\n",
    "k = 5\n",
    "cv_stratergy = StratifiedKFold(n_splits = k, shuffle = True, random_state = 42)\n",
    "\n",
    "# define a function to get CV performance metrics\n",
    "def evaluate_model_cv(model, X, y, cv_stratergy, scoring_metrics):\n",
    "    results = {}\n",
    "    for metric in scoring_metrics:\n",
    "        scores = cross_val_score(model, X, y, cv = cv_stratergy, scoring = metric, n_jobs = -1)\n",
    "        results[metric] = {\n",
    "            'mean': scores.mean(),\n",
    "            'std': scores.std(),\n",
    "            'scores': scores\n",
    "        }\n",
    "    return results\n",
    "\n",
    "# list out scoring metrics appropriate for imbalanced datasets\n",
    "scoring_metrics = ['precision', 'recall', 'f1', 'roc_auc', 'average_precision']\n",
    "\n",
    "print(\"\\nCross validation strategy configured!\")\n",
    "print(f\"Used Stratified {k} fold cross validation with metrics {scoring_metrics}\")\n"
   ]
  },
  {
   "cell_type": "code",
   "execution_count": 25,
   "id": "41e14081",
   "metadata": {},
   "outputs": [
    {
     "name": "stdout",
     "output_type": "stream",
     "text": [
      "=== MODEL TRAINING AND EVALUATION ===\n",
      "\n",
      "=== EVALUATING WITH ORIGINAL STRATEGY ===\n",
      "\n",
      "Training Logistic Regression...\n",
      "\n",
      "Model: Logistic Regression\n",
      "Metric: precision : 0.0672 (0.0016)\n",
      "Metric: recall : 0.8970 (0.0315)\n",
      "Metric: f1 : 0.1251 (0.0029)\n",
      "Metric: roc_auc : 0.9732 (0.0075)\n",
      "Metric: average_precision : 0.7288 (0.0184)\n",
      "\n",
      "Training Decision Tree...\n",
      "\n",
      "Model: Decision Tree\n",
      "Metric: precision : 0.1089 (0.0244)\n",
      "Metric: recall : 0.8512 (0.0228)\n",
      "Metric: f1 : 0.1923 (0.0391)\n",
      "Metric: roc_auc : 0.9243 (0.0118)\n",
      "Metric: average_precision : 0.7332 (0.0529)\n",
      "\n",
      "Training Random Forest...\n",
      "\n",
      "Model: Random Forest\n",
      "Metric: precision : 0.7153 (0.0355)\n",
      "Metric: recall : 0.8538 (0.0173)\n",
      "Metric: f1 : 0.7779 (0.0235)\n",
      "Metric: roc_auc : 0.9771 (0.0089)\n",
      "Metric: average_precision : 0.8005 (0.0149)\n",
      "\n",
      "Training SVM...\n",
      "\n",
      "Model: SVM\n",
      "Metric: precision : 0.2135 (0.0314)\n",
      "Metric: recall : 0.7794 (0.0223)\n",
      "Metric: f1 : 0.3337 (0.0360)\n",
      "Metric: roc_auc : 0.9558 (0.0108)\n",
      "Metric: average_precision : 0.3535 (0.0510)\n",
      "\n",
      "=== EVALUATING WITH SMOTE STRATEGY ===\n",
      "\n",
      "Training Logistic Regression...\n",
      "\n",
      "Model: Logistic Regression\n",
      "Metric: precision : 0.9736 (0.0008)\n",
      "Metric: recall : 0.8989 (0.0011)\n",
      "Metric: f1 : 0.9348 (0.0005)\n",
      "Metric: roc_auc : 0.9836 (0.0006)\n",
      "Metric: average_precision : 0.9865 (0.0004)\n",
      "\n",
      "Training Decision Tree...\n",
      "\n",
      "Model: Decision Tree\n",
      "Metric: precision : 0.9851 (0.0008)\n",
      "Metric: recall : 0.9805 (0.0008)\n",
      "Metric: f1 : 0.9828 (0.0003)\n",
      "Metric: roc_auc : 0.9970 (0.0004)\n",
      "Metric: average_precision : 0.9966 (0.0004)\n",
      "\n",
      "Training Random Forest...\n",
      "\n",
      "Model: Random Forest\n",
      "Metric: precision : 0.9963 (0.0003)\n",
      "Metric: recall : 0.9742 (0.0017)\n",
      "Metric: f1 : 0.9851 (0.0008)\n",
      "Metric: roc_auc : 0.9994 (0.0001)\n",
      "Metric: average_precision : 0.9994 (0.0001)\n",
      "\n",
      "Training SVM...\n"
     ]
    },
    {
     "ename": "KeyboardInterrupt",
     "evalue": "",
     "output_type": "error",
     "traceback": [
      "\u001b[0;31m---------------------------------------------------------------------------\u001b[0m",
      "\u001b[0;31mKeyboardInterrupt\u001b[0m                         Traceback (most recent call last)",
      "Cell \u001b[0;32mIn[25], line 26\u001b[0m\n\u001b[1;32m     23\u001b[0m \u001b[38;5;28mprint\u001b[39m(\u001b[38;5;124mf\u001b[39m\u001b[38;5;124m\"\u001b[39m\u001b[38;5;130;01m\\n\u001b[39;00m\u001b[38;5;124mTraining \u001b[39m\u001b[38;5;132;01m{\u001b[39;00mmodel_name\u001b[38;5;132;01m}\u001b[39;00m\u001b[38;5;124m...\u001b[39m\u001b[38;5;124m\"\u001b[39m)\n\u001b[1;32m     25\u001b[0m \u001b[38;5;66;03m# evaluate CV results\u001b[39;00m\n\u001b[0;32m---> 26\u001b[0m cv_results \u001b[38;5;241m=\u001b[39m \u001b[43mevaluate_model_cv\u001b[49m\u001b[43m(\u001b[49m\u001b[43mmodel\u001b[49m\u001b[43m,\u001b[49m\u001b[43m \u001b[49m\u001b[43mX_train\u001b[49m\u001b[43m,\u001b[49m\u001b[43m \u001b[49m\u001b[43my_train\u001b[49m\u001b[43m,\u001b[49m\u001b[43m \u001b[49m\u001b[43mcv_stratergy\u001b[49m\u001b[43m,\u001b[49m\u001b[43m \u001b[49m\u001b[43mscoring_metrics\u001b[49m\u001b[43m)\u001b[49m\n\u001b[1;32m     27\u001b[0m results_comparision[strategy][model_name] \u001b[38;5;241m=\u001b[39m cv_results\n\u001b[1;32m     29\u001b[0m \u001b[38;5;66;03m# print results\u001b[39;00m\n",
      "Cell \u001b[0;32mIn[23], line 12\u001b[0m, in \u001b[0;36mevaluate_model_cv\u001b[0;34m(model, X, y, cv_stratergy, scoring_metrics)\u001b[0m\n\u001b[1;32m     10\u001b[0m results \u001b[38;5;241m=\u001b[39m {}\n\u001b[1;32m     11\u001b[0m \u001b[38;5;28;01mfor\u001b[39;00m metric \u001b[38;5;129;01min\u001b[39;00m scoring_metrics:\n\u001b[0;32m---> 12\u001b[0m     scores \u001b[38;5;241m=\u001b[39m \u001b[43mcross_val_score\u001b[49m\u001b[43m(\u001b[49m\u001b[43mmodel\u001b[49m\u001b[43m,\u001b[49m\u001b[43m \u001b[49m\u001b[43mX\u001b[49m\u001b[43m,\u001b[49m\u001b[43m \u001b[49m\u001b[43my\u001b[49m\u001b[43m,\u001b[49m\u001b[43m \u001b[49m\u001b[43mcv\u001b[49m\u001b[43m \u001b[49m\u001b[38;5;241;43m=\u001b[39;49m\u001b[43m \u001b[49m\u001b[43mcv_stratergy\u001b[49m\u001b[43m,\u001b[49m\u001b[43m \u001b[49m\u001b[43mscoring\u001b[49m\u001b[43m \u001b[49m\u001b[38;5;241;43m=\u001b[39;49m\u001b[43m \u001b[49m\u001b[43mmetric\u001b[49m\u001b[43m,\u001b[49m\u001b[43m \u001b[49m\u001b[43mn_jobs\u001b[49m\u001b[43m \u001b[49m\u001b[38;5;241;43m=\u001b[39;49m\u001b[43m \u001b[49m\u001b[38;5;241;43m-\u001b[39;49m\u001b[38;5;241;43m1\u001b[39;49m\u001b[43m)\u001b[49m\n\u001b[1;32m     13\u001b[0m     results[metric] \u001b[38;5;241m=\u001b[39m {\n\u001b[1;32m     14\u001b[0m         \u001b[38;5;124m'\u001b[39m\u001b[38;5;124mmean\u001b[39m\u001b[38;5;124m'\u001b[39m: scores\u001b[38;5;241m.\u001b[39mmean(),\n\u001b[1;32m     15\u001b[0m         \u001b[38;5;124m'\u001b[39m\u001b[38;5;124mstd\u001b[39m\u001b[38;5;124m'\u001b[39m: scores\u001b[38;5;241m.\u001b[39mstd(),\n\u001b[1;32m     16\u001b[0m         \u001b[38;5;124m'\u001b[39m\u001b[38;5;124mscores\u001b[39m\u001b[38;5;124m'\u001b[39m: scores\n\u001b[1;32m     17\u001b[0m     }\n\u001b[1;32m     18\u001b[0m \u001b[38;5;28;01mreturn\u001b[39;00m results\n",
      "File \u001b[0;32m~/myenv/lib/python3.10/site-packages/sklearn/utils/_param_validation.py:216\u001b[0m, in \u001b[0;36mvalidate_params.<locals>.decorator.<locals>.wrapper\u001b[0;34m(*args, **kwargs)\u001b[0m\n\u001b[1;32m    210\u001b[0m \u001b[38;5;28;01mtry\u001b[39;00m:\n\u001b[1;32m    211\u001b[0m     \u001b[38;5;28;01mwith\u001b[39;00m config_context(\n\u001b[1;32m    212\u001b[0m         skip_parameter_validation\u001b[38;5;241m=\u001b[39m(\n\u001b[1;32m    213\u001b[0m             prefer_skip_nested_validation \u001b[38;5;129;01mor\u001b[39;00m global_skip_validation\n\u001b[1;32m    214\u001b[0m         )\n\u001b[1;32m    215\u001b[0m     ):\n\u001b[0;32m--> 216\u001b[0m         \u001b[38;5;28;01mreturn\u001b[39;00m \u001b[43mfunc\u001b[49m\u001b[43m(\u001b[49m\u001b[38;5;241;43m*\u001b[39;49m\u001b[43margs\u001b[49m\u001b[43m,\u001b[49m\u001b[43m \u001b[49m\u001b[38;5;241;43m*\u001b[39;49m\u001b[38;5;241;43m*\u001b[39;49m\u001b[43mkwargs\u001b[49m\u001b[43m)\u001b[49m\n\u001b[1;32m    217\u001b[0m \u001b[38;5;28;01mexcept\u001b[39;00m InvalidParameterError \u001b[38;5;28;01mas\u001b[39;00m e:\n\u001b[1;32m    218\u001b[0m     \u001b[38;5;66;03m# When the function is just a wrapper around an estimator, we allow\u001b[39;00m\n\u001b[1;32m    219\u001b[0m     \u001b[38;5;66;03m# the function to delegate validation to the estimator, but we replace\u001b[39;00m\n\u001b[1;32m    220\u001b[0m     \u001b[38;5;66;03m# the name of the estimator by the name of the function in the error\u001b[39;00m\n\u001b[1;32m    221\u001b[0m     \u001b[38;5;66;03m# message to avoid confusion.\u001b[39;00m\n\u001b[1;32m    222\u001b[0m     msg \u001b[38;5;241m=\u001b[39m re\u001b[38;5;241m.\u001b[39msub(\n\u001b[1;32m    223\u001b[0m         \u001b[38;5;124mr\u001b[39m\u001b[38;5;124m\"\u001b[39m\u001b[38;5;124mparameter of \u001b[39m\u001b[38;5;124m\\\u001b[39m\u001b[38;5;124mw+ must be\u001b[39m\u001b[38;5;124m\"\u001b[39m,\n\u001b[1;32m    224\u001b[0m         \u001b[38;5;124mf\u001b[39m\u001b[38;5;124m\"\u001b[39m\u001b[38;5;124mparameter of \u001b[39m\u001b[38;5;132;01m{\u001b[39;00mfunc\u001b[38;5;241m.\u001b[39m\u001b[38;5;18m__qualname__\u001b[39m\u001b[38;5;132;01m}\u001b[39;00m\u001b[38;5;124m must be\u001b[39m\u001b[38;5;124m\"\u001b[39m,\n\u001b[1;32m    225\u001b[0m         \u001b[38;5;28mstr\u001b[39m(e),\n\u001b[1;32m    226\u001b[0m     )\n",
      "File \u001b[0;32m~/myenv/lib/python3.10/site-packages/sklearn/model_selection/_validation.py:684\u001b[0m, in \u001b[0;36mcross_val_score\u001b[0;34m(estimator, X, y, groups, scoring, cv, n_jobs, verbose, params, pre_dispatch, error_score)\u001b[0m\n\u001b[1;32m    681\u001b[0m \u001b[38;5;66;03m# To ensure multimetric format is not supported\u001b[39;00m\n\u001b[1;32m    682\u001b[0m scorer \u001b[38;5;241m=\u001b[39m check_scoring(estimator, scoring\u001b[38;5;241m=\u001b[39mscoring)\n\u001b[0;32m--> 684\u001b[0m cv_results \u001b[38;5;241m=\u001b[39m \u001b[43mcross_validate\u001b[49m\u001b[43m(\u001b[49m\n\u001b[1;32m    685\u001b[0m \u001b[43m    \u001b[49m\u001b[43mestimator\u001b[49m\u001b[38;5;241;43m=\u001b[39;49m\u001b[43mestimator\u001b[49m\u001b[43m,\u001b[49m\n\u001b[1;32m    686\u001b[0m \u001b[43m    \u001b[49m\u001b[43mX\u001b[49m\u001b[38;5;241;43m=\u001b[39;49m\u001b[43mX\u001b[49m\u001b[43m,\u001b[49m\n\u001b[1;32m    687\u001b[0m \u001b[43m    \u001b[49m\u001b[43my\u001b[49m\u001b[38;5;241;43m=\u001b[39;49m\u001b[43my\u001b[49m\u001b[43m,\u001b[49m\n\u001b[1;32m    688\u001b[0m \u001b[43m    \u001b[49m\u001b[43mgroups\u001b[49m\u001b[38;5;241;43m=\u001b[39;49m\u001b[43mgroups\u001b[49m\u001b[43m,\u001b[49m\n\u001b[1;32m    689\u001b[0m \u001b[43m    \u001b[49m\u001b[43mscoring\u001b[49m\u001b[38;5;241;43m=\u001b[39;49m\u001b[43m{\u001b[49m\u001b[38;5;124;43m\"\u001b[39;49m\u001b[38;5;124;43mscore\u001b[39;49m\u001b[38;5;124;43m\"\u001b[39;49m\u001b[43m:\u001b[49m\u001b[43m \u001b[49m\u001b[43mscorer\u001b[49m\u001b[43m}\u001b[49m\u001b[43m,\u001b[49m\n\u001b[1;32m    690\u001b[0m \u001b[43m    \u001b[49m\u001b[43mcv\u001b[49m\u001b[38;5;241;43m=\u001b[39;49m\u001b[43mcv\u001b[49m\u001b[43m,\u001b[49m\n\u001b[1;32m    691\u001b[0m \u001b[43m    \u001b[49m\u001b[43mn_jobs\u001b[49m\u001b[38;5;241;43m=\u001b[39;49m\u001b[43mn_jobs\u001b[49m\u001b[43m,\u001b[49m\n\u001b[1;32m    692\u001b[0m \u001b[43m    \u001b[49m\u001b[43mverbose\u001b[49m\u001b[38;5;241;43m=\u001b[39;49m\u001b[43mverbose\u001b[49m\u001b[43m,\u001b[49m\n\u001b[1;32m    693\u001b[0m \u001b[43m    \u001b[49m\u001b[43mparams\u001b[49m\u001b[38;5;241;43m=\u001b[39;49m\u001b[43mparams\u001b[49m\u001b[43m,\u001b[49m\n\u001b[1;32m    694\u001b[0m \u001b[43m    \u001b[49m\u001b[43mpre_dispatch\u001b[49m\u001b[38;5;241;43m=\u001b[39;49m\u001b[43mpre_dispatch\u001b[49m\u001b[43m,\u001b[49m\n\u001b[1;32m    695\u001b[0m \u001b[43m    \u001b[49m\u001b[43merror_score\u001b[49m\u001b[38;5;241;43m=\u001b[39;49m\u001b[43merror_score\u001b[49m\u001b[43m,\u001b[49m\n\u001b[1;32m    696\u001b[0m \u001b[43m\u001b[49m\u001b[43m)\u001b[49m\n\u001b[1;32m    697\u001b[0m \u001b[38;5;28;01mreturn\u001b[39;00m cv_results[\u001b[38;5;124m\"\u001b[39m\u001b[38;5;124mtest_score\u001b[39m\u001b[38;5;124m\"\u001b[39m]\n",
      "File \u001b[0;32m~/myenv/lib/python3.10/site-packages/sklearn/utils/_param_validation.py:216\u001b[0m, in \u001b[0;36mvalidate_params.<locals>.decorator.<locals>.wrapper\u001b[0;34m(*args, **kwargs)\u001b[0m\n\u001b[1;32m    210\u001b[0m \u001b[38;5;28;01mtry\u001b[39;00m:\n\u001b[1;32m    211\u001b[0m     \u001b[38;5;28;01mwith\u001b[39;00m config_context(\n\u001b[1;32m    212\u001b[0m         skip_parameter_validation\u001b[38;5;241m=\u001b[39m(\n\u001b[1;32m    213\u001b[0m             prefer_skip_nested_validation \u001b[38;5;129;01mor\u001b[39;00m global_skip_validation\n\u001b[1;32m    214\u001b[0m         )\n\u001b[1;32m    215\u001b[0m     ):\n\u001b[0;32m--> 216\u001b[0m         \u001b[38;5;28;01mreturn\u001b[39;00m \u001b[43mfunc\u001b[49m\u001b[43m(\u001b[49m\u001b[38;5;241;43m*\u001b[39;49m\u001b[43margs\u001b[49m\u001b[43m,\u001b[49m\u001b[43m \u001b[49m\u001b[38;5;241;43m*\u001b[39;49m\u001b[38;5;241;43m*\u001b[39;49m\u001b[43mkwargs\u001b[49m\u001b[43m)\u001b[49m\n\u001b[1;32m    217\u001b[0m \u001b[38;5;28;01mexcept\u001b[39;00m InvalidParameterError \u001b[38;5;28;01mas\u001b[39;00m e:\n\u001b[1;32m    218\u001b[0m     \u001b[38;5;66;03m# When the function is just a wrapper around an estimator, we allow\u001b[39;00m\n\u001b[1;32m    219\u001b[0m     \u001b[38;5;66;03m# the function to delegate validation to the estimator, but we replace\u001b[39;00m\n\u001b[1;32m    220\u001b[0m     \u001b[38;5;66;03m# the name of the estimator by the name of the function in the error\u001b[39;00m\n\u001b[1;32m    221\u001b[0m     \u001b[38;5;66;03m# message to avoid confusion.\u001b[39;00m\n\u001b[1;32m    222\u001b[0m     msg \u001b[38;5;241m=\u001b[39m re\u001b[38;5;241m.\u001b[39msub(\n\u001b[1;32m    223\u001b[0m         \u001b[38;5;124mr\u001b[39m\u001b[38;5;124m\"\u001b[39m\u001b[38;5;124mparameter of \u001b[39m\u001b[38;5;124m\\\u001b[39m\u001b[38;5;124mw+ must be\u001b[39m\u001b[38;5;124m\"\u001b[39m,\n\u001b[1;32m    224\u001b[0m         \u001b[38;5;124mf\u001b[39m\u001b[38;5;124m\"\u001b[39m\u001b[38;5;124mparameter of \u001b[39m\u001b[38;5;132;01m{\u001b[39;00mfunc\u001b[38;5;241m.\u001b[39m\u001b[38;5;18m__qualname__\u001b[39m\u001b[38;5;132;01m}\u001b[39;00m\u001b[38;5;124m must be\u001b[39m\u001b[38;5;124m\"\u001b[39m,\n\u001b[1;32m    225\u001b[0m         \u001b[38;5;28mstr\u001b[39m(e),\n\u001b[1;32m    226\u001b[0m     )\n",
      "File \u001b[0;32m~/myenv/lib/python3.10/site-packages/sklearn/model_selection/_validation.py:411\u001b[0m, in \u001b[0;36mcross_validate\u001b[0;34m(estimator, X, y, groups, scoring, cv, n_jobs, verbose, params, pre_dispatch, return_train_score, return_estimator, return_indices, error_score)\u001b[0m\n\u001b[1;32m    408\u001b[0m \u001b[38;5;66;03m# We clone the estimator to make sure that all the folds are\u001b[39;00m\n\u001b[1;32m    409\u001b[0m \u001b[38;5;66;03m# independent, and that it is pickle-able.\u001b[39;00m\n\u001b[1;32m    410\u001b[0m parallel \u001b[38;5;241m=\u001b[39m Parallel(n_jobs\u001b[38;5;241m=\u001b[39mn_jobs, verbose\u001b[38;5;241m=\u001b[39mverbose, pre_dispatch\u001b[38;5;241m=\u001b[39mpre_dispatch)\n\u001b[0;32m--> 411\u001b[0m results \u001b[38;5;241m=\u001b[39m \u001b[43mparallel\u001b[49m\u001b[43m(\u001b[49m\n\u001b[1;32m    412\u001b[0m \u001b[43m    \u001b[49m\u001b[43mdelayed\u001b[49m\u001b[43m(\u001b[49m\u001b[43m_fit_and_score\u001b[49m\u001b[43m)\u001b[49m\u001b[43m(\u001b[49m\n\u001b[1;32m    413\u001b[0m \u001b[43m        \u001b[49m\u001b[43mclone\u001b[49m\u001b[43m(\u001b[49m\u001b[43mestimator\u001b[49m\u001b[43m)\u001b[49m\u001b[43m,\u001b[49m\n\u001b[1;32m    414\u001b[0m \u001b[43m        \u001b[49m\u001b[43mX\u001b[49m\u001b[43m,\u001b[49m\n\u001b[1;32m    415\u001b[0m \u001b[43m        \u001b[49m\u001b[43my\u001b[49m\u001b[43m,\u001b[49m\n\u001b[1;32m    416\u001b[0m \u001b[43m        \u001b[49m\u001b[43mscorer\u001b[49m\u001b[38;5;241;43m=\u001b[39;49m\u001b[43mscorers\u001b[49m\u001b[43m,\u001b[49m\n\u001b[1;32m    417\u001b[0m \u001b[43m        \u001b[49m\u001b[43mtrain\u001b[49m\u001b[38;5;241;43m=\u001b[39;49m\u001b[43mtrain\u001b[49m\u001b[43m,\u001b[49m\n\u001b[1;32m    418\u001b[0m \u001b[43m        \u001b[49m\u001b[43mtest\u001b[49m\u001b[38;5;241;43m=\u001b[39;49m\u001b[43mtest\u001b[49m\u001b[43m,\u001b[49m\n\u001b[1;32m    419\u001b[0m \u001b[43m        \u001b[49m\u001b[43mverbose\u001b[49m\u001b[38;5;241;43m=\u001b[39;49m\u001b[43mverbose\u001b[49m\u001b[43m,\u001b[49m\n\u001b[1;32m    420\u001b[0m \u001b[43m        \u001b[49m\u001b[43mparameters\u001b[49m\u001b[38;5;241;43m=\u001b[39;49m\u001b[38;5;28;43;01mNone\u001b[39;49;00m\u001b[43m,\u001b[49m\n\u001b[1;32m    421\u001b[0m \u001b[43m        \u001b[49m\u001b[43mfit_params\u001b[49m\u001b[38;5;241;43m=\u001b[39;49m\u001b[43mrouted_params\u001b[49m\u001b[38;5;241;43m.\u001b[39;49m\u001b[43mestimator\u001b[49m\u001b[38;5;241;43m.\u001b[39;49m\u001b[43mfit\u001b[49m\u001b[43m,\u001b[49m\n\u001b[1;32m    422\u001b[0m \u001b[43m        \u001b[49m\u001b[43mscore_params\u001b[49m\u001b[38;5;241;43m=\u001b[39;49m\u001b[43mrouted_params\u001b[49m\u001b[38;5;241;43m.\u001b[39;49m\u001b[43mscorer\u001b[49m\u001b[38;5;241;43m.\u001b[39;49m\u001b[43mscore\u001b[49m\u001b[43m,\u001b[49m\n\u001b[1;32m    423\u001b[0m \u001b[43m        \u001b[49m\u001b[43mreturn_train_score\u001b[49m\u001b[38;5;241;43m=\u001b[39;49m\u001b[43mreturn_train_score\u001b[49m\u001b[43m,\u001b[49m\n\u001b[1;32m    424\u001b[0m \u001b[43m        \u001b[49m\u001b[43mreturn_times\u001b[49m\u001b[38;5;241;43m=\u001b[39;49m\u001b[38;5;28;43;01mTrue\u001b[39;49;00m\u001b[43m,\u001b[49m\n\u001b[1;32m    425\u001b[0m \u001b[43m        \u001b[49m\u001b[43mreturn_estimator\u001b[49m\u001b[38;5;241;43m=\u001b[39;49m\u001b[43mreturn_estimator\u001b[49m\u001b[43m,\u001b[49m\n\u001b[1;32m    426\u001b[0m \u001b[43m        \u001b[49m\u001b[43merror_score\u001b[49m\u001b[38;5;241;43m=\u001b[39;49m\u001b[43merror_score\u001b[49m\u001b[43m,\u001b[49m\n\u001b[1;32m    427\u001b[0m \u001b[43m    \u001b[49m\u001b[43m)\u001b[49m\n\u001b[1;32m    428\u001b[0m \u001b[43m    \u001b[49m\u001b[38;5;28;43;01mfor\u001b[39;49;00m\u001b[43m \u001b[49m\u001b[43mtrain\u001b[49m\u001b[43m,\u001b[49m\u001b[43m \u001b[49m\u001b[43mtest\u001b[49m\u001b[43m \u001b[49m\u001b[38;5;129;43;01min\u001b[39;49;00m\u001b[43m \u001b[49m\u001b[43mindices\u001b[49m\n\u001b[1;32m    429\u001b[0m \u001b[43m\u001b[49m\u001b[43m)\u001b[49m\n\u001b[1;32m    431\u001b[0m _warn_or_raise_about_fit_failures(results, error_score)\n\u001b[1;32m    433\u001b[0m \u001b[38;5;66;03m# For callable scoring, the return type is only know after calling. If the\u001b[39;00m\n\u001b[1;32m    434\u001b[0m \u001b[38;5;66;03m# return type is a dictionary, the error scores can now be inserted with\u001b[39;00m\n\u001b[1;32m    435\u001b[0m \u001b[38;5;66;03m# the correct key.\u001b[39;00m\n",
      "File \u001b[0;32m~/myenv/lib/python3.10/site-packages/sklearn/utils/parallel.py:77\u001b[0m, in \u001b[0;36mParallel.__call__\u001b[0;34m(self, iterable)\u001b[0m\n\u001b[1;32m     72\u001b[0m config \u001b[38;5;241m=\u001b[39m get_config()\n\u001b[1;32m     73\u001b[0m iterable_with_config \u001b[38;5;241m=\u001b[39m (\n\u001b[1;32m     74\u001b[0m     (_with_config(delayed_func, config), args, kwargs)\n\u001b[1;32m     75\u001b[0m     \u001b[38;5;28;01mfor\u001b[39;00m delayed_func, args, kwargs \u001b[38;5;129;01min\u001b[39;00m iterable\n\u001b[1;32m     76\u001b[0m )\n\u001b[0;32m---> 77\u001b[0m \u001b[38;5;28;01mreturn\u001b[39;00m \u001b[38;5;28;43msuper\u001b[39;49m\u001b[43m(\u001b[49m\u001b[43m)\u001b[49m\u001b[38;5;241;43m.\u001b[39;49m\u001b[38;5;21;43m__call__\u001b[39;49m\u001b[43m(\u001b[49m\u001b[43miterable_with_config\u001b[49m\u001b[43m)\u001b[49m\n",
      "File \u001b[0;32m~/myenv/lib/python3.10/site-packages/joblib/parallel.py:2072\u001b[0m, in \u001b[0;36mParallel.__call__\u001b[0;34m(self, iterable)\u001b[0m\n\u001b[1;32m   2066\u001b[0m \u001b[38;5;66;03m# The first item from the output is blank, but it makes the interpreter\u001b[39;00m\n\u001b[1;32m   2067\u001b[0m \u001b[38;5;66;03m# progress until it enters the Try/Except block of the generator and\u001b[39;00m\n\u001b[1;32m   2068\u001b[0m \u001b[38;5;66;03m# reaches the first `yield` statement. This starts the asynchronous\u001b[39;00m\n\u001b[1;32m   2069\u001b[0m \u001b[38;5;66;03m# dispatch of the tasks to the workers.\u001b[39;00m\n\u001b[1;32m   2070\u001b[0m \u001b[38;5;28mnext\u001b[39m(output)\n\u001b[0;32m-> 2072\u001b[0m \u001b[38;5;28;01mreturn\u001b[39;00m output \u001b[38;5;28;01mif\u001b[39;00m \u001b[38;5;28mself\u001b[39m\u001b[38;5;241m.\u001b[39mreturn_generator \u001b[38;5;28;01melse\u001b[39;00m \u001b[38;5;28;43mlist\u001b[39;49m\u001b[43m(\u001b[49m\u001b[43moutput\u001b[49m\u001b[43m)\u001b[49m\n",
      "File \u001b[0;32m~/myenv/lib/python3.10/site-packages/joblib/parallel.py:1682\u001b[0m, in \u001b[0;36mParallel._get_outputs\u001b[0;34m(self, iterator, pre_dispatch)\u001b[0m\n\u001b[1;32m   1679\u001b[0m     \u001b[38;5;28;01myield\u001b[39;00m\n\u001b[1;32m   1681\u001b[0m     \u001b[38;5;28;01mwith\u001b[39;00m \u001b[38;5;28mself\u001b[39m\u001b[38;5;241m.\u001b[39m_backend\u001b[38;5;241m.\u001b[39mretrieval_context():\n\u001b[0;32m-> 1682\u001b[0m         \u001b[38;5;28;01myield from\u001b[39;00m \u001b[38;5;28mself\u001b[39m\u001b[38;5;241m.\u001b[39m_retrieve()\n\u001b[1;32m   1684\u001b[0m \u001b[38;5;28;01mexcept\u001b[39;00m \u001b[38;5;167;01mGeneratorExit\u001b[39;00m:\n\u001b[1;32m   1685\u001b[0m     \u001b[38;5;66;03m# The generator has been garbage collected before being fully\u001b[39;00m\n\u001b[1;32m   1686\u001b[0m     \u001b[38;5;66;03m# consumed. This aborts the remaining tasks if possible and warn\u001b[39;00m\n\u001b[1;32m   1687\u001b[0m     \u001b[38;5;66;03m# the user if necessary.\u001b[39;00m\n\u001b[1;32m   1688\u001b[0m     \u001b[38;5;28mself\u001b[39m\u001b[38;5;241m.\u001b[39m_exception \u001b[38;5;241m=\u001b[39m \u001b[38;5;28;01mTrue\u001b[39;00m\n",
      "File \u001b[0;32m~/myenv/lib/python3.10/site-packages/joblib/parallel.py:1800\u001b[0m, in \u001b[0;36mParallel._retrieve\u001b[0;34m(self)\u001b[0m\n\u001b[1;32m   1789\u001b[0m \u001b[38;5;28;01mif\u001b[39;00m \u001b[38;5;28mself\u001b[39m\u001b[38;5;241m.\u001b[39mreturn_ordered:\n\u001b[1;32m   1790\u001b[0m     \u001b[38;5;66;03m# Case ordered: wait for completion (or error) of the next job\u001b[39;00m\n\u001b[1;32m   1791\u001b[0m     \u001b[38;5;66;03m# that have been dispatched and not retrieved yet. If no job\u001b[39;00m\n\u001b[0;32m   (...)\u001b[0m\n\u001b[1;32m   1795\u001b[0m     \u001b[38;5;66;03m# control only have to be done on the amount of time the next\u001b[39;00m\n\u001b[1;32m   1796\u001b[0m     \u001b[38;5;66;03m# dispatched job is pending.\u001b[39;00m\n\u001b[1;32m   1797\u001b[0m     \u001b[38;5;28;01mif\u001b[39;00m (nb_jobs \u001b[38;5;241m==\u001b[39m \u001b[38;5;241m0\u001b[39m) \u001b[38;5;129;01mor\u001b[39;00m (\n\u001b[1;32m   1798\u001b[0m         \u001b[38;5;28mself\u001b[39m\u001b[38;5;241m.\u001b[39m_jobs[\u001b[38;5;241m0\u001b[39m]\u001b[38;5;241m.\u001b[39mget_status(timeout\u001b[38;5;241m=\u001b[39m\u001b[38;5;28mself\u001b[39m\u001b[38;5;241m.\u001b[39mtimeout) \u001b[38;5;241m==\u001b[39m TASK_PENDING\n\u001b[1;32m   1799\u001b[0m     ):\n\u001b[0;32m-> 1800\u001b[0m         \u001b[43mtime\u001b[49m\u001b[38;5;241;43m.\u001b[39;49m\u001b[43msleep\u001b[49m\u001b[43m(\u001b[49m\u001b[38;5;241;43m0.01\u001b[39;49m\u001b[43m)\u001b[49m\n\u001b[1;32m   1801\u001b[0m         \u001b[38;5;28;01mcontinue\u001b[39;00m\n\u001b[1;32m   1803\u001b[0m \u001b[38;5;28;01melif\u001b[39;00m nb_jobs \u001b[38;5;241m==\u001b[39m \u001b[38;5;241m0\u001b[39m:\n\u001b[1;32m   1804\u001b[0m     \u001b[38;5;66;03m# Case unordered: jobs are added to the list of jobs to\u001b[39;00m\n\u001b[1;32m   1805\u001b[0m     \u001b[38;5;66;03m# retrieve `self._jobs` only once completed or in error, which\u001b[39;00m\n\u001b[0;32m   (...)\u001b[0m\n\u001b[1;32m   1811\u001b[0m     \u001b[38;5;66;03m# timeouts before any other dispatched job has completed and\u001b[39;00m\n\u001b[1;32m   1812\u001b[0m     \u001b[38;5;66;03m# been added to `self._jobs` to be retrieved.\u001b[39;00m\n",
      "\u001b[0;31mKeyboardInterrupt\u001b[0m: "
     ]
    }
   ],
   "source": [
    "# Model Training and Evaluation\n",
    "print(\"=== MODEL TRAINING AND EVALUATION ===\")\n",
    "\n",
    "# store results from different models\n",
    "results_comparision = {}\n",
    "\n",
    "# different sampling strategies\n",
    "sampling_strategies = {\n",
    "    'Original': (X_train_scaled, y_train),\n",
    "    'SMOTE': (X_train_smote, y_train_smote),\n",
    "    'Borderline_SMOTE': (X_train_borderline_smote, y_train_borderline_smote),\n",
    "    'SMOTE_Tomek': (X_train_smote_tomek, y_train_smote_tomek)\n",
    "}\n",
    "\n",
    "# run a loop for all the strategies\n",
    "for strategy, (X_train, y_train) in sampling_strategies.items():\n",
    "    print(f\"\\n=== EVALUATING WITH {strategy.upper()} STRATEGY ===\")\n",
    "    \n",
    "    results_comparision[strategy] = {}\n",
    "\n",
    "    # evaluate for each model\n",
    "    for model_name, model in models.items():\n",
    "        print(f\"\\nTraining {model_name}...\")\n",
    "\n",
    "        # evaluate CV results\n",
    "        cv_results = evaluate_model_cv(model, X_train, y_train, cv_stratergy, scoring_metrics)\n",
    "        results_comparision[strategy][model_name] = cv_results\n",
    "\n",
    "        # print results\n",
    "        print(f\"\\nModel: {model_name}\")\n",
    "        for metric,values in cv_results.items():\n",
    "            print(f\"Metric: {metric} : {values['mean']:.4f} ({values['std']:.4f})\")"
   ]
  },
  {
   "cell_type": "markdown",
   "id": "765ed5c8",
   "metadata": {},
   "source": [
    "The training for SVM has taken too long, about 9 hours till now to run cross validation for SMOTE dataset with SVM. This proves the fact that SVM is not efficient of preferable for large dataset with very high dimension. So it's better to ignore SVM in such cases."
   ]
  },
  {
   "cell_type": "code",
   "execution_count": 31,
   "id": "9f5a8a93",
   "metadata": {},
   "outputs": [
    {
     "name": "stdout",
     "output_type": "stream",
     "text": [
      "                                                              Original  \\\n",
      "Logistic Regression  {'precision': {'mean': 0.0672375375627486, 'st...   \n",
      "Decision Tree        {'precision': {'mean': 0.10890828802041903, 's...   \n",
      "Random Forest        {'precision': {'mean': 0.7152622340223418, 'st...   \n",
      "SVM                  {'precision': {'mean': 0.2134822610250236, 'st...   \n",
      "\n",
      "                                                                 SMOTE  \n",
      "Logistic Regression  {'precision': {'mean': 0.9736449253928405, 'st...  \n",
      "Decision Tree        {'precision': {'mean': 0.9851391349573069, 'st...  \n",
      "Random Forest        {'precision': {'mean': 0.9962638741293471, 'st...  \n",
      "SVM                                                                NaN  \n"
     ]
    }
   ],
   "source": [
    "# print(results_comparision)\n",
    "results_comparision_df = pd.DataFrame(results_comparision)\n",
    "print(results_comparision_df)\n",
    "\n",
    "# exporting the results temproarily to a csv file\n",
    "results_comparision_df.to_csv(\"results_comparision.csv\")"
   ]
  },
  {
   "cell_type": "code",
   "execution_count": 32,
   "id": "cccf0a87",
   "metadata": {},
   "outputs": [],
   "source": [
    "# will be continuing with solution for this problem and the pipeline tomorrow."
   ]
  },
  {
   "cell_type": "code",
   "execution_count": null,
   "id": "45d4b734",
   "metadata": {},
   "outputs": [],
   "source": []
  }
 ],
 "metadata": {
  "kernelspec": {
   "display_name": "myenv",
   "language": "python",
   "name": "python3"
  },
  "language_info": {
   "codemirror_mode": {
    "name": "ipython",
    "version": 3
   },
   "file_extension": ".py",
   "mimetype": "text/x-python",
   "name": "python",
   "nbconvert_exporter": "python",
   "pygments_lexer": "ipython3",
   "version": "3.10.12"
  }
 },
 "nbformat": 4,
 "nbformat_minor": 5
}
